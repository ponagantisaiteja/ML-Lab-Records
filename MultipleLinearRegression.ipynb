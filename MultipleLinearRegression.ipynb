{
 "cells": [
  {
   "cell_type": "markdown",
   "id": "b70a432c-3c27-428d-b2bd-e0a2464eb612",
   "metadata": {},
   "source": [
    "## Housing Case Study\n",
    "Problem Statement:\n",
    "\n",
    "Consider a real estate company that has a dataset containing the prices of properties in the Delhi region. It wishes to use the data to optimise the sale prices of the properties based on important factors such as area, bedrooms, parking, etc.\n",
    "\n",
    "Essentially, the company wants —\n",
    "\n",
    "To identify the variables affecting house prices, e.g. area, number of rooms, bathrooms, etc.\n",
    "\n",
    "To create a linear model that quantitatively relates house prices with variables such as number of rooms, area, number of bathrooms, etc.\n",
    "\n",
    "To know the accuracy of the model, i.e. how well these variables can predict house prices."
   ]
  },
  {
   "cell_type": "code",
   "execution_count": 2,
   "id": "e13c132d-b22a-4ada-b425-ace2d957fb5b",
   "metadata": {},
   "outputs": [
    {
     "data": {
      "text/html": [
       "<div>\n",
       "<style scoped>\n",
       "    .dataframe tbody tr th:only-of-type {\n",
       "        vertical-align: middle;\n",
       "    }\n",
       "\n",
       "    .dataframe tbody tr th {\n",
       "        vertical-align: top;\n",
       "    }\n",
       "\n",
       "    .dataframe thead th {\n",
       "        text-align: right;\n",
       "    }\n",
       "</style>\n",
       "<table border=\"1\" class=\"dataframe\">\n",
       "  <thead>\n",
       "    <tr style=\"text-align: right;\">\n",
       "      <th></th>\n",
       "      <th>price</th>\n",
       "      <th>area</th>\n",
       "      <th>bedrooms</th>\n",
       "      <th>bathrooms</th>\n",
       "      <th>stories</th>\n",
       "      <th>mainroad</th>\n",
       "      <th>guestroom</th>\n",
       "      <th>basement</th>\n",
       "      <th>hotwaterheating</th>\n",
       "      <th>airconditioning</th>\n",
       "      <th>parking</th>\n",
       "      <th>prefarea</th>\n",
       "      <th>furnishingstatus</th>\n",
       "    </tr>\n",
       "  </thead>\n",
       "  <tbody>\n",
       "    <tr>\n",
       "      <th>0</th>\n",
       "      <td>13300000</td>\n",
       "      <td>7420</td>\n",
       "      <td>4</td>\n",
       "      <td>2</td>\n",
       "      <td>3</td>\n",
       "      <td>yes</td>\n",
       "      <td>no</td>\n",
       "      <td>no</td>\n",
       "      <td>no</td>\n",
       "      <td>yes</td>\n",
       "      <td>2</td>\n",
       "      <td>yes</td>\n",
       "      <td>furnished</td>\n",
       "    </tr>\n",
       "    <tr>\n",
       "      <th>1</th>\n",
       "      <td>12250000</td>\n",
       "      <td>8960</td>\n",
       "      <td>4</td>\n",
       "      <td>4</td>\n",
       "      <td>4</td>\n",
       "      <td>yes</td>\n",
       "      <td>no</td>\n",
       "      <td>no</td>\n",
       "      <td>no</td>\n",
       "      <td>yes</td>\n",
       "      <td>3</td>\n",
       "      <td>no</td>\n",
       "      <td>furnished</td>\n",
       "    </tr>\n",
       "    <tr>\n",
       "      <th>2</th>\n",
       "      <td>12250000</td>\n",
       "      <td>9960</td>\n",
       "      <td>3</td>\n",
       "      <td>2</td>\n",
       "      <td>2</td>\n",
       "      <td>yes</td>\n",
       "      <td>no</td>\n",
       "      <td>yes</td>\n",
       "      <td>no</td>\n",
       "      <td>no</td>\n",
       "      <td>2</td>\n",
       "      <td>yes</td>\n",
       "      <td>semi-furnished</td>\n",
       "    </tr>\n",
       "    <tr>\n",
       "      <th>3</th>\n",
       "      <td>12215000</td>\n",
       "      <td>7500</td>\n",
       "      <td>4</td>\n",
       "      <td>2</td>\n",
       "      <td>2</td>\n",
       "      <td>yes</td>\n",
       "      <td>no</td>\n",
       "      <td>yes</td>\n",
       "      <td>no</td>\n",
       "      <td>yes</td>\n",
       "      <td>3</td>\n",
       "      <td>yes</td>\n",
       "      <td>furnished</td>\n",
       "    </tr>\n",
       "    <tr>\n",
       "      <th>4</th>\n",
       "      <td>11410000</td>\n",
       "      <td>7420</td>\n",
       "      <td>4</td>\n",
       "      <td>1</td>\n",
       "      <td>2</td>\n",
       "      <td>yes</td>\n",
       "      <td>yes</td>\n",
       "      <td>yes</td>\n",
       "      <td>no</td>\n",
       "      <td>yes</td>\n",
       "      <td>2</td>\n",
       "      <td>no</td>\n",
       "      <td>furnished</td>\n",
       "    </tr>\n",
       "  </tbody>\n",
       "</table>\n",
       "</div>"
      ],
      "text/plain": [
       "      price  area  bedrooms  bathrooms  stories mainroad guestroom basement  \\\n",
       "0  13300000  7420         4          2        3      yes        no       no   \n",
       "1  12250000  8960         4          4        4      yes        no       no   \n",
       "2  12250000  9960         3          2        2      yes        no      yes   \n",
       "3  12215000  7500         4          2        2      yes        no      yes   \n",
       "4  11410000  7420         4          1        2      yes       yes      yes   \n",
       "\n",
       "  hotwaterheating airconditioning  parking prefarea furnishingstatus  \n",
       "0              no             yes        2      yes        furnished  \n",
       "1              no             yes        3       no        furnished  \n",
       "2              no              no        2      yes   semi-furnished  \n",
       "3              no             yes        3      yes        furnished  \n",
       "4              no             yes        2       no        furnished  "
      ]
     },
     "execution_count": 2,
     "metadata": {},
     "output_type": "execute_result"
    }
   ],
   "source": [
    "#1 Import the dataset (Housing.csv) and look at the top five rows\n",
    "import pandas as pd\n",
    "df = pd.read_csv('Housing.csv')\n",
    "df.head()"
   ]
  },
  {
   "cell_type": "code",
   "execution_count": 3,
   "id": "0b429f32-4c68-43ad-8fd1-2fe90503fd88",
   "metadata": {},
   "outputs": [
    {
     "data": {
      "text/plain": [
       "(545, 13)"
      ]
     },
     "execution_count": 3,
     "metadata": {},
     "output_type": "execute_result"
    }
   ],
   "source": [
    "#2 Check the shape of the DataFrame (rows, columns)\n",
    "df.shape"
   ]
  },
  {
   "cell_type": "code",
   "execution_count": 4,
   "id": "661fff1a-6c1f-4876-9a5b-c886c0aad902",
   "metadata": {},
   "outputs": [
    {
     "data": {
      "text/plain": [
       "price                int64\n",
       "area                 int64\n",
       "bedrooms             int64\n",
       "bathrooms            int64\n",
       "stories              int64\n",
       "mainroad            object\n",
       "guestroom           object\n",
       "basement            object\n",
       "hotwaterheating     object\n",
       "airconditioning     object\n",
       "parking              int64\n",
       "prefarea            object\n",
       "furnishingstatus    object\n",
       "dtype: object"
      ]
     },
     "execution_count": 4,
     "metadata": {},
     "output_type": "execute_result"
    }
   ],
   "source": [
    "#3 Look at the data types of the columns\n",
    "df.dtypes"
   ]
  },
  {
   "cell_type": "code",
   "execution_count": 5,
   "id": "cb86b308-69c4-4aec-a9fd-6d74857468ec",
   "metadata": {},
   "outputs": [
    {
     "data": {
      "text/plain": [
       "price               0\n",
       "area                0\n",
       "bedrooms            0\n",
       "bathrooms           0\n",
       "stories             0\n",
       "mainroad            0\n",
       "guestroom           0\n",
       "basement            0\n",
       "hotwaterheating     0\n",
       "airconditioning     0\n",
       "parking             0\n",
       "prefarea            0\n",
       "furnishingstatus    0\n",
       "dtype: int64"
      ]
     },
     "execution_count": 5,
     "metadata": {},
     "output_type": "execute_result"
    }
   ],
   "source": [
    "#4 Check for missing  values if any, replace with appropriate values\n",
    "df.isnull().sum()"
   ]
  },
  {
   "cell_type": "code",
   "execution_count": 6,
   "id": "e03d9624-c3db-4ae4-a7af-bf570b956c19",
   "metadata": {},
   "outputs": [
    {
     "ename": "NameError",
     "evalue": "name 'x' is not defined",
     "output_type": "error",
     "traceback": [
      "\u001b[0;31m---------------------------------------------------------------------------\u001b[0m",
      "\u001b[0;31mNameError\u001b[0m                                 Traceback (most recent call last)",
      "Cell \u001b[0;32mIn[6], line 4\u001b[0m\n\u001b[1;32m      2\u001b[0m X\u001b[38;5;241m=\u001b[39mdf\u001b[38;5;241m.\u001b[39miloc[:,\u001b[38;5;241m0\u001b[39m]\n\u001b[1;32m      3\u001b[0m y\u001b[38;5;241m=\u001b[39mdf\u001b[38;5;241m.\u001b[39miloc[:,\u001b[38;5;241m1\u001b[39m:]\n\u001b[0;32m----> 4\u001b[0m \u001b[38;5;28mprint\u001b[39m(\u001b[43mx\u001b[49m)\n\u001b[1;32m      5\u001b[0m \u001b[38;5;28mprint\u001b[39m(y)\n",
      "\u001b[0;31mNameError\u001b[0m: name 'x' is not defined"
     ]
    }
   ],
   "source": [
    "#5 Prepare  X (independent variables) and y (dependent variable)\n",
    "X=df.iloc[:,0]\n",
    "y=df.iloc[:,1:]\n",
    "print(x)\n",
    "print(y)"
   ]
  },
  {
   "cell_type": "code",
   "execution_count": null,
   "id": "41009947-bf5b-4e15-beb0-5cfc761d8b7d",
   "metadata": {},
   "outputs": [
    {
     "ename": "NameError",
     "evalue": "name 'df' is not defined",
     "output_type": "error",
     "traceback": [
      "\u001b[0;31m---------------------------------------------------------------------------\u001b[0m",
      "\u001b[0;31mNameError\u001b[0m                                 Traceback (most recent call last)",
      "Cell \u001b[0;32mIn[1], line 6\u001b[0m\n\u001b[1;32m      2\u001b[0m \u001b[38;5;28;01mimport\u001b[39;00m \u001b[38;5;21;01mmatplotlib\u001b[39;00m\u001b[38;5;21;01m.\u001b[39;00m\u001b[38;5;21;01mpyplot\u001b[39;00m \u001b[38;5;28;01mas\u001b[39;00m \u001b[38;5;21;01mplt\u001b[39;00m\n\u001b[1;32m      5\u001b[0m plt\u001b[38;5;241m.\u001b[39msubplot(\u001b[38;5;241m2\u001b[39m,\u001b[38;5;241m2\u001b[39m,\u001b[38;5;241m1\u001b[39m)\n\u001b[0;32m----> 6\u001b[0m plt\u001b[38;5;241m.\u001b[39mscatter(\u001b[43mdf\u001b[49m\u001b[38;5;241m.\u001b[39miloc[:,\u001b[38;5;241m0\u001b[39m]\u001b[38;5;241m.\u001b[39mvalues, df\u001b[38;5;241m.\u001b[39miloc[:,\u001b[38;5;241m1\u001b[39m])\n\u001b[1;32m      7\u001b[0m plt\u001b[38;5;241m.\u001b[39msubplot(\u001b[38;5;241m2\u001b[39m,\u001b[38;5;241m2\u001b[39m,\u001b[38;5;241m2\u001b[39m)\n\u001b[1;32m      9\u001b[0m plt\u001b[38;5;241m.\u001b[39mscatter(df\u001b[38;5;241m.\u001b[39miloc[:,\u001b[38;5;241m2\u001b[39m]\u001b[38;5;241m.\u001b[39mvalues, df\u001b[38;5;241m.\u001b[39miloc[:,\u001b[38;5;241m0\u001b[39m])\n",
      "\u001b[0;31mNameError\u001b[0m: name 'df' is not defined"
     ]
    },
    {
     "data": {
      "image/png": "[encoded data removed]",
      "text/plain": [
       "<Figure size 640x480 with 1 Axes>"
      ]
     },
     "metadata": {},
     "output_type": "display_data"
    }
   ],
   "source": [
    "#6 Visualise the relationship between the independent variables and the depenedent variable using scatterplots\n",
    "import matplotlib.pyplot as plt\n",
    "\n",
    " \n",
    "plt.subplot(2,2,1)\n",
    "plt.scatter(df.iloc[:,0].values, df.iloc[:,1])\n",
    "plt.subplot(2,2,2)\n",
    "\n",
    "plt.scatter(df.iloc[:,2].values, df.iloc[:,0])\n",
    "plt.subplot(2,2,3)\n",
    "\n",
    "plt.scatter(df.iloc[:,3].values, df.iloc[:,0])\n",
    "plt.grid()"
   ]
  },
  {
   "cell_type": "code",
   "execution_count": 7,
   "id": "19f90195-0633-4388-9e6e-9e82ffffd6a1",
   "metadata": {},
   "outputs": [
    {
     "name": "stdout",
     "output_type": "stream",
     "text": [
      "        price  area  bedrooms  bathrooms  stories  mainroad  guestroom  \\\n",
      "0    13300000  7420         4          2        3         1          0   \n",
      "1    12250000  8960         4          4        4         1          0   \n",
      "2    12250000  9960         3          2        2         1          0   \n",
      "3    12215000  7500         4          2        2         1          0   \n",
      "4    11410000  7420         4          1        2         1          1   \n",
      "..        ...   ...       ...        ...      ...       ...        ...   \n",
      "540   1820000  3000         2          1        1         1          0   \n",
      "541   1767150  2400         3          1        1         0          0   \n",
      "542   1750000  3620         2          1        1         1          0   \n",
      "543   1750000  2910         3          1        1         0          0   \n",
      "544   1750000  3850         3          1        2         1          0   \n",
      "\n",
      "     basement  hotwaterheating  airconditioning  parking  prefarea  \\\n",
      "0           0                0                1        2         1   \n",
      "1           0                0                1        3         0   \n",
      "2           1                0                0        2         1   \n",
      "3           1                0                1        3         1   \n",
      "4           1                0                1        2         0   \n",
      "..        ...              ...              ...      ...       ...   \n",
      "540         1                0                0        2         0   \n",
      "541         0                0                0        0         0   \n",
      "542         0                0                0        0         0   \n",
      "543         0                0                0        0         0   \n",
      "544         0                0                0        0         0   \n",
      "\n",
      "     furnishingstatus  \n",
      "0                   0  \n",
      "1                   0  \n",
      "2                   1  \n",
      "3                   0  \n",
      "4                   0  \n",
      "..                ...  \n",
      "540                 2  \n",
      "541                 1  \n",
      "542                 2  \n",
      "543                 0  \n",
      "544                 2  \n",
      "\n",
      "[545 rows x 13 columns]\n"
     ]
    }
   ],
   "source": [
    "#7 Encoding categorical data in X\n",
    "from sklearn.preprocessing import LabelEncoder\n",
    "\n",
    "le=LabelEncoder()\n",
    "data=df.select_dtypes(include=['object']).columns\n",
    "for col in data:\n",
    "        df[col]=le.fit_transform(df[col])\n",
    "    \n",
    "\n",
    "print(df)\n",
    "#le.fit_transform(df['furnishingstatus'])\n"
   ]
  },
  {
   "cell_type": "code",
   "execution_count": 8,
   "id": "8b91fa2d-0728-422e-91bf-81c6375b65a4",
   "metadata": {},
   "outputs": [
    {
     "name": "stdout",
     "output_type": "stream",
     "text": [
      "        price  area  bedrooms  bathrooms  stories  parking  furnishingstatus  \\\n",
      "0    13300000  7420         4          2        3        2                 0   \n",
      "1    12250000  8960         4          4        4        3                 0   \n",
      "2    12250000  9960         3          2        2        2                 1   \n",
      "3    12215000  7500         4          2        2        3                 0   \n",
      "4    11410000  7420         4          1        2        2                 0   \n",
      "..        ...   ...       ...        ...      ...      ...               ...   \n",
      "540   1820000  3000         2          1        1        2                 2   \n",
      "541   1767150  2400         3          1        1        0                 1   \n",
      "542   1750000  3620         2          1        1        0                 2   \n",
      "543   1750000  2910         3          1        1        0                 0   \n",
      "544   1750000  3850         3          1        2        0                 2   \n",
      "\n",
      "     mainroad_1  guestroom_1  basement_1  hotwaterheating_1  prefarea_1  \\\n",
      "0          True        False       False              False        True   \n",
      "1          True        False       False              False       False   \n",
      "2          True        False        True              False        True   \n",
      "3          True        False        True              False        True   \n",
      "4          True         True        True              False       False   \n",
      "..          ...          ...         ...                ...         ...   \n",
      "540        True        False        True              False       False   \n",
      "541       False        False       False              False       False   \n",
      "542        True        False       False              False       False   \n",
      "543       False        False       False              False       False   \n",
      "544        True        False       False              False       False   \n",
      "\n",
      "     airconditioning_1  \n",
      "0                 True  \n",
      "1                 True  \n",
      "2                False  \n",
      "3                 True  \n",
      "4                 True  \n",
      "..                 ...  \n",
      "540              False  \n",
      "541              False  \n",
      "542              False  \n",
      "543              False  \n",
      "544              False  \n",
      "\n",
      "[545 rows x 13 columns]\n"
     ]
    }
   ],
   "source": [
    "#8 Avoiding the Dummy Variable Trap\n",
    "import pandas as pd\n",
    "dum=pd.get_dummies(df,columns=['mainroad','guestroom','basement','hotwaterheating','prefarea','airconditioning'],drop_first=True)\n",
    "print(dum)"
   ]
  },
  {
   "cell_type": "code",
   "execution_count": 9,
   "id": "871f9db7",
   "metadata": {},
   "outputs": [
    {
     "name": "stdout",
     "output_type": "stream",
     "text": [
      "   1  2\n",
      "0  0  0\n",
      "1  0  0\n",
      "2  1  0\n",
      "3  0  0\n",
      "4  0  0\n",
      "5  1  0\n",
      "6  1  0\n",
      "7  0  1\n",
      "8  0  0\n",
      "9  0  1\n"
     ]
    },
    {
     "name": "stderr",
     "output_type": "stream",
     "text": [
      "/tmp/ipykernel_4366/2026863495.py:1: FutureWarning: Downcasting behavior in `replace` is deprecated and will be removed in a future version. To retain the old behavior, explicitly call `result.infer_objects(copy=False)`. To opt-in to the future behavior, set `pd.set_option('future.no_silent_downcasting', True)`\n",
      "  dum=pd.get_dummies(df.iloc[:,-1],drop_first=True).replace({True:1,False:0})\n"
     ]
    }
   ],
   "source": [
    "dum=pd.get_dummies(df.iloc[:,-1],drop_first=True).replace({True:1,False:0})\n",
    "print(dum.head(10))"
   ]
  },
  {
   "cell_type": "code",
   "execution_count": 23,
   "id": "488d83f7-f328-4710-b8be-d60605f18f41",
   "metadata": {},
   "outputs": [
    {
     "name": "stdout",
     "output_type": "stream",
     "text": [
      "        price      area  bedrooms  bathrooms   stories  mainroad  guestroom  \\\n",
      "0    4.566365  1.046726  1.403419   1.421812  1.378217  0.405623  -0.465315   \n",
      "1    4.004484  1.757010  1.403419   5.405809  2.532024  0.405623  -0.465315   \n",
      "2    4.004484  2.218232  0.047278   1.421812  0.224410  0.405623  -0.465315   \n",
      "3    3.985755  1.083624  1.403419   1.421812  0.224410  0.405623  -0.465315   \n",
      "4    3.554979  1.046726  1.403419  -0.570187  0.224410  0.405623   2.149083   \n",
      "..        ...       ...       ...        ...       ...       ...        ...   \n",
      "540 -1.576868 -0.991879 -1.308863  -0.570187 -0.929397  0.405623  -0.465315   \n",
      "541 -1.605149 -1.268613  0.047278  -0.570187 -0.929397 -2.465344  -0.465315   \n",
      "542 -1.614327 -0.705921 -1.308863  -0.570187 -0.929397  0.405623  -0.465315   \n",
      "543 -1.614327 -1.033389  0.047278  -0.570187 -0.929397 -2.465344  -0.465315   \n",
      "544 -1.614327 -0.599839  0.047278  -0.570187  0.224410  0.405623  -0.465315   \n",
      "\n",
      "     basement  hotwaterheating  airconditioning   parking  prefarea  \\\n",
      "0   -0.734539        -0.219265         1.472618  1.517692  1.804941   \n",
      "1   -0.734539        -0.219265         1.472618  2.679409 -0.554035   \n",
      "2    1.361397        -0.219265        -0.679063  1.517692  1.804941   \n",
      "3    1.361397        -0.219265         1.472618  2.679409  1.804941   \n",
      "4    1.361397        -0.219265         1.472618  1.517692 -0.554035   \n",
      "..        ...              ...              ...       ...       ...   \n",
      "540  1.361397        -0.219265        -0.679063  1.517692 -0.554035   \n",
      "541 -0.734539        -0.219265        -0.679063 -0.805741 -0.554035   \n",
      "542 -0.734539        -0.219265        -0.679063 -0.805741 -0.554035   \n",
      "543 -0.734539        -0.219265        -0.679063 -0.805741 -0.554035   \n",
      "544 -0.734539        -0.219265        -0.679063 -0.805741 -0.554035   \n",
      "\n",
      "     furnishingstatus  \n",
      "0           -1.406286  \n",
      "1           -1.406286  \n",
      "2           -0.091662  \n",
      "3           -1.406286  \n",
      "4           -1.406286  \n",
      "..                ...  \n",
      "540          1.222962  \n",
      "541         -0.091662  \n",
      "542          1.222962  \n",
      "543         -1.406286  \n",
      "544          1.222962  \n",
      "\n",
      "[545 rows x 13 columns]\n"
     ]
    }
   ],
   "source": [
    "#9 Apply feature scaling on numerical variables\n",
    "\n",
    "from sklearn.preprocessing import StandardScaler\n",
    "num=df.select_dtypes(include=['int64','float64']).columns\n",
    "le=StandardScaler()\n",
    "df[num]=le.fit_transform(df[num])\n",
    "print(df)\n"
   ]
  },
  {
   "cell_type": "code",
   "execution_count": 24,
   "id": "1acf2436-7668-4eb9-9b9f-48d4a2976020",
   "metadata": {},
   "outputs": [
    {
     "data": {
      "text/plain": [
       "((436, 12), (109, 12), (436,), (109,))"
      ]
     },
     "execution_count": 24,
     "metadata": {},
     "output_type": "execute_result"
    }
   ],
   "source": [
    "#10 Split Data into Training and Testing Sets (70%-Train 30%-Test) - X_train, y_train, X_test, y_test\n",
    "\n",
    "from sklearn.model_selection import train_test_split\n",
    "\n",
    "X_train,X_test,y_train,y_test=train_test_split(X,y,test_size=0.2)\n",
    "X_train.shape,X_test.shape,y_train.shape,y_test.shape\n"
   ]
  },
  {
   "cell_type": "code",
   "execution_count": null,
   "id": "40c624d5",
   "metadata": {},
   "outputs": [],
   "source": []
  },
  {
   "cell_type": "code",
   "execution_count": 26,
   "id": "95ac0a36",
   "metadata": {},
   "outputs": [
    {
     "data": {
      "text/plain": [
       "array([[ 0.13811721],\n",
       "       [ 1.40341936],\n",
       "       [ 1.42181174],\n",
       "       ...,\n",
       "       [-0.80574124],\n",
       "       [-0.55403469],\n",
       "       [-1.40628573]])"
      ]
     },
     "execution_count": 26,
     "metadata": {},
     "output_type": "execute_result"
    }
   ],
   "source": [
    " # Convert Series to 2D array if it's a single feature\n",
    "X_train.values.reshape(-1,1)\n"
   ]
  },
  {
   "cell_type": "code",
   "execution_count": 27,
   "id": "d011419c-d0e5-4186-8e0d-b5f1d42d3dbd",
   "metadata": {},
   "outputs": [
    {
     "name": "stdout",
     "output_type": "stream",
     "text": [
      "coefficenit [ 0.29917914  0.03362287  0.30453069  0.21509632  0.06403111  0.05644694\n",
      "  0.09507112  0.08479998  0.21154384  0.11635671  0.14651584 -0.08599381]\n",
      "Predictions: [-0.33715326  0.84563919  0.98788592 -0.9733971   0.90666712]\n"
     ]
    }
   ],
   "source": [
    "#11 Fitting Multiple Linear Regression to the Training\n",
    "import pandas as pd\n",
    "from sklearn.model_selection import train_test_split\n",
    "from sklearn.linear_model import LinearRegression\n",
    "\n",
    "# Load dataset\n",
    "# Check for categorical columns and convert them\n",
    "df = pd.get_dummies(df, drop_first=True)  # Convert categorical data into numeric\n",
    "\n",
    "# Define features (X) and target (y)\n",
    "X = df.drop(columns=['price'])  # Replace 'TargetColumn' with actual column name\n",
    "y = df['price']\n",
    "\n",
    "# Split dataset into training & testing sets\n",
    "X_train, X_test, y_train, y_test = train_test_split(X, y, test_size=0.2)\n",
    "\n",
    "# ✅ Fix: Ensure X_train is 2D\n",
    "\n",
    "\n",
    "\n",
    "\n",
    "# Train the model\n",
    "model = LinearRegression()\n",
    "model.fit(X_train, y_train)\n",
    "\n",
    "# Make predictions\n",
    "print(\"coefficenit\",model.coef_)\n",
    "y_pred = model.predict(X_test)\n",
    "print(\"Predictions:\", y_pred[:5])\n",
    "\n"
   ]
  },
  {
   "cell_type": "code",
   "execution_count": null,
   "id": "fbc3c934",
   "metadata": {},
   "outputs": [],
   "source": []
  },
  {
   "cell_type": "code",
   "execution_count": 29,
   "id": "2c57f32b-58dc-4a80-839b-b3cfa29ac3c4",
   "metadata": {},
   "outputs": [
    {
     "name": "stdout",
     "output_type": "stream",
     "text": [
      "[-0.98587728 -0.2525513  -0.82142565  0.89827773 -0.3883347 ] \n",
      "\n",
      "error 479   -0.008349\n",
      "531    1.103310\n",
      "458    0.062456\n",
      "45    -0.596471\n",
      "364    0.180893\n",
      "Name: price, dtype: float64\n"
     ]
    }
   ],
   "source": [
    "#12 Predict on the train set and calculate the error = y_pred - y_train\n",
    "y_pred=model.predict(X_train)\n",
    "error=y_pred-y_train\n",
    "print(y_pred[:5],\"\\n\")\n",
    "print(\"error\",error[:5])"
   ]
  },
  {
   "cell_type": "code",
   "execution_count": 30,
   "id": "af715af0-0022-4851-b3b0-ffd7898ef2ae",
   "metadata": {},
   "outputs": [
    {
     "data": {
      "image/png": "[encoded data removed]",
      "text/plain": [
       "<Figure size 800x600 with 1 Axes>"
      ]
     },
     "metadata": {},
     "output_type": "display_data"
    }
   ],
   "source": [
    "#13  Residual plot - plot y_pred in x axis and errors in y axis\n",
    "import matplotlib.pyplot as plt\n",
    "plt.figure(figsize=(8,6))\n",
    "\n",
    "plt.scatter(y_pred,error,color='blue')\n",
    "plt.axhline(color='r')\n",
    "plt.plot()\n",
    "plt.show()"
   ]
  },
  {
   "cell_type": "code",
   "execution_count": 32,
   "id": "588a7ea5-6745-4930-9d37-8cb25ec48ddb",
   "metadata": {},
   "outputs": [
    {
     "name": "stdout",
     "output_type": "stream",
     "text": [
      "[-0.33715326  0.84563919  0.98788592 -0.9733971   0.90666712]\n"
     ]
    }
   ],
   "source": [
    "#14  Predic on the test set\n",
    "\n",
    "y_pred=model.predict(X_test)\n",
    "print(y_pred[:5])"
   ]
  },
  {
   "cell_type": "code",
   "execution_count": 33,
   "id": "0e896fc1-af23-4842-b710-223d0982666e",
   "metadata": {},
   "outputs": [
    {
     "data": {
      "image/png": "[encoded data removed]",
      "text/plain": [
       "<Figure size 640x480 with 1 Axes>"
      ]
     },
     "metadata": {},
     "output_type": "display_data"
    }
   ],
   "source": [
    "#15 Residual plot - plot y_pred in x axis and errors in y axis\n",
    "error=y_pred-y_test\n",
    "plt.scatter(y_pred,error,color='blue')\n",
    "plt.axhline(color='y')\n",
    "plt.show()"
   ]
  },
  {
   "cell_type": "code",
   "execution_count": 34,
   "id": "aabaab50-706c-413f-ab29-47ede66917b1",
   "metadata": {},
   "outputs": [
    {
     "name": "stdout",
     "output_type": "stream",
     "text": [
      "mse 0.36217970853627124\n",
      "r2 0.60950509723559\n"
     ]
    }
   ],
   "source": [
    "#16 Print Mean Squared Error and R Squared Value\n",
    "from sklearn.metrics import mean_squared_error,r2_score\n",
    "\n",
    "mse=mean_squared_error(y_test,y_pred)\n",
    "r2=r2_score(y_test,y_pred)\n",
    "print(\"mse\",mse)\n",
    "print(\"r2\",r2)"
   ]
  },
  {
   "cell_type": "code",
   "execution_count": 15,
   "id": "89e98b63-04b7-4a82-b324-6108cf4cd79a",
   "metadata": {},
   "outputs": [
    {
     "name": "stdout",
     "output_type": "stream",
     "text": [
      "adjust R2-X1:,0.3681699478636079\n",
      "adjust R2-X2:,0.48423879535674064\n"
     ]
    }
   ],
   "source": [
    "#17 Check  Adjusted R Squared Value(by selecting different no of input variables insted of all)\n",
    "from sklearn.metrics import mean_squared_error,r2_score\n",
    "from sklearn.linear_model import LinearRegression\n",
    "y= df['price']\n",
    "X = df.drop(columns=['price'])\n",
    "def adjust(X,y):\n",
    "    model=LinearRegression().fit(X,y)\n",
    "    r2=model.score(X,y)\n",
    "    n, p=X.shape\n",
    "    return 1-(1-r2)*(n-1)/(n-p-1)\n",
    "\n",
    "adj_r2_X1 = adjust(X[['area', 'bedrooms']], y)\n",
    "adj_r2_X2 = adjust(X[['area', 'bedrooms', 'bathrooms']], y)\n",
    "print(f\"adjust R2-X1:,{adj_r2_X1}\")\n",
    "print(f\"adjust R2-X2:,{adj_r2_X2}\")\n",
    "\n",
    "    "
   ]
  },
  {
   "cell_type": "code",
   "execution_count": null,
   "id": "92912ab3",
   "metadata": {},
   "outputs": [],
   "source": []
  },
  {
   "cell_type": "code",
   "execution_count": null,
   "id": "30e48192",
   "metadata": {},
   "outputs": [],
   "source": []
  },
  {
   "cell_type": "code",
   "execution_count": null,
   "id": "85688d90",
   "metadata": {},
   "outputs": [],
   "source": []
  }
 ],
 "metadata": {
  "kernelspec": {
   "display_name": "Python 3",
   "language": "python",
   "name": "python3"
  },
  "language_info": {
   "codemirror_mode": {
    "name": "ipython",
    "version": 3
   },
   "file_extension": ".py",
   "mimetype": "text/x-python",
   "name": "python",
   "nbconvert_exporter": "python",
   "pygments_lexer": "ipython3",
   "version": "3.10.12"
  }
 },
 "nbformat": 4,
 "nbformat_minor": 5
}
