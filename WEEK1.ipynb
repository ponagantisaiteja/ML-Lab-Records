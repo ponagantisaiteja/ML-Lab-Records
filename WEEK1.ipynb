{
 "cells": [
  {
   "cell_type": "code",
   "execution_count": 1,
   "id": "acdbd550-5d1e-41b8-8893-e33319f39afc",
   "metadata": {},
   "outputs": [],
   "source": [
    "import pandas as pd\n"
   ]
  },
  {
   "cell_type": "code",
   "execution_count": 3,
   "id": "d752b672-19a9-4afc-8553-f51403b6438a",
   "metadata": {},
   "outputs": [
    {
     "data": {
      "text/plain": [
       "0    10\n",
       "1    20\n",
       "2    30\n",
       "3    40\n",
       "dtype: int64"
      ]
     },
     "execution_count": 3,
     "metadata": {},
     "output_type": "execute_result"
    }
   ],
   "source": [
    "data=[10,20,30,40]\n",
    "v=pd.Series(data)\n",
    "v"
   ]
  },
  {
   "cell_type": "code",
   "execution_count": 4,
   "id": "a0dae0dd-ddc5-4343-92aa-88ee086c9505",
   "metadata": {},
   "outputs": [
    {
     "data": {
      "text/html": [
       "<div>\n",
       "<style scoped>\n",
       "    .dataframe tbody tr th:only-of-type {\n",
       "        vertical-align: middle;\n",
       "    }\n",
       "\n",
       "    .dataframe tbody tr th {\n",
       "        vertical-align: top;\n",
       "    }\n",
       "\n",
       "    .dataframe thead th {\n",
       "        text-align: right;\n",
       "    }\n",
       "</style>\n",
       "<table border=\"1\" class=\"dataframe\">\n",
       "  <thead>\n",
       "    <tr style=\"text-align: right;\">\n",
       "      <th></th>\n",
       "      <th>Name</th>\n",
       "      <th>Age</th>\n",
       "      <th>City</th>\n",
       "    </tr>\n",
       "  </thead>\n",
       "  <tbody>\n",
       "    <tr>\n",
       "      <th>0</th>\n",
       "      <td>bunny</td>\n",
       "      <td>24</td>\n",
       "      <td>knr</td>\n",
       "    </tr>\n",
       "    <tr>\n",
       "      <th>1</th>\n",
       "      <td>konda</td>\n",
       "      <td>21</td>\n",
       "      <td>hyd</td>\n",
       "    </tr>\n",
       "    <tr>\n",
       "      <th>2</th>\n",
       "      <td>sam</td>\n",
       "      <td>25</td>\n",
       "      <td>wrg</td>\n",
       "    </tr>\n",
       "  </tbody>\n",
       "</table>\n",
       "</div>"
      ],
      "text/plain": [
       "    Name Age City\n",
       "0  bunny  24  knr\n",
       "1  konda  21  hyd\n",
       "2    sam  25  wrg"
      ]
     },
     "execution_count": 4,
     "metadata": {},
     "output_type": "execute_result"
    }
   ],
   "source": [
    "data={\n",
    "'Name':['bunny','konda','sam'],\n",
    "'Age' : ['24','21','25'],\n",
    "'City': ['knr','hyd','wrg']\n",
    "}\n",
    "\n",
    "v=pd.DataFrame(data)\n",
    "v"
   ]
  },
  {
   "cell_type": "code",
   "execution_count": 7,
   "id": "1596f8d1-4523-45bd-b479-ba1a13bceeb9",
   "metadata": {},
   "outputs": [
    {
     "data": {
      "text/html": [
       "<div>\n",
       "<style scoped>\n",
       "    .dataframe tbody tr th:only-of-type {\n",
       "        vertical-align: middle;\n",
       "    }\n",
       "\n",
       "    .dataframe tbody tr th {\n",
       "        vertical-align: top;\n",
       "    }\n",
       "\n",
       "    .dataframe thead th {\n",
       "        text-align: right;\n",
       "    }\n",
       "</style>\n",
       "<table border=\"1\" class=\"dataframe\">\n",
       "  <thead>\n",
       "    <tr style=\"text-align: right;\">\n",
       "      <th></th>\n",
       "      <th>TransactionID</th>\n",
       "      <th>TransactionDate</th>\n",
       "      <th>UserID</th>\n",
       "      <th>ProductID</th>\n",
       "      <th>Quantity</th>\n",
       "    </tr>\n",
       "  </thead>\n",
       "  <tbody>\n",
       "    <tr>\n",
       "      <th>0</th>\n",
       "      <td>1</td>\n",
       "      <td>2010-08-21</td>\n",
       "      <td>7.0</td>\n",
       "      <td>2</td>\n",
       "      <td>1</td>\n",
       "    </tr>\n",
       "    <tr>\n",
       "      <th>1</th>\n",
       "      <td>2</td>\n",
       "      <td>2011-05-26</td>\n",
       "      <td>3.0</td>\n",
       "      <td>4</td>\n",
       "      <td>1</td>\n",
       "    </tr>\n",
       "    <tr>\n",
       "      <th>2</th>\n",
       "      <td>3</td>\n",
       "      <td>2011-06-16</td>\n",
       "      <td>3.0</td>\n",
       "      <td>3</td>\n",
       "      <td>1</td>\n",
       "    </tr>\n",
       "    <tr>\n",
       "      <th>3</th>\n",
       "      <td>4</td>\n",
       "      <td>2012-08-26</td>\n",
       "      <td>1.0</td>\n",
       "      <td>2</td>\n",
       "      <td>3</td>\n",
       "    </tr>\n",
       "    <tr>\n",
       "      <th>4</th>\n",
       "      <td>5</td>\n",
       "      <td>2013-06-06</td>\n",
       "      <td>2.0</td>\n",
       "      <td>4</td>\n",
       "      <td>1</td>\n",
       "    </tr>\n",
       "    <tr>\n",
       "      <th>5</th>\n",
       "      <td>6</td>\n",
       "      <td>2013-12-23</td>\n",
       "      <td>2.0</td>\n",
       "      <td>5</td>\n",
       "      <td>6</td>\n",
       "    </tr>\n",
       "    <tr>\n",
       "      <th>6</th>\n",
       "      <td>7</td>\n",
       "      <td>2013-12-30</td>\n",
       "      <td>3.0</td>\n",
       "      <td>4</td>\n",
       "      <td>1</td>\n",
       "    </tr>\n",
       "    <tr>\n",
       "      <th>7</th>\n",
       "      <td>8</td>\n",
       "      <td>2014-04-24</td>\n",
       "      <td>NaN</td>\n",
       "      <td>2</td>\n",
       "      <td>3</td>\n",
       "    </tr>\n",
       "    <tr>\n",
       "      <th>8</th>\n",
       "      <td>9</td>\n",
       "      <td>2015-04-24</td>\n",
       "      <td>7.0</td>\n",
       "      <td>4</td>\n",
       "      <td>3</td>\n",
       "    </tr>\n",
       "    <tr>\n",
       "      <th>9</th>\n",
       "      <td>10</td>\n",
       "      <td>2016-05-08</td>\n",
       "      <td>3.0</td>\n",
       "      <td>4</td>\n",
       "      <td>4</td>\n",
       "    </tr>\n",
       "  </tbody>\n",
       "</table>\n",
       "</div>"
      ],
      "text/plain": [
       "   TransactionID TransactionDate  UserID  ProductID  Quantity\n",
       "0              1      2010-08-21     7.0          2         1\n",
       "1              2      2011-05-26     3.0          4         1\n",
       "2              3      2011-06-16     3.0          3         1\n",
       "3              4      2012-08-26     1.0          2         3\n",
       "4              5      2013-06-06     2.0          4         1\n",
       "5              6      2013-12-23     2.0          5         6\n",
       "6              7      2013-12-30     3.0          4         1\n",
       "7              8      2014-04-24     NaN          2         3\n",
       "8              9      2015-04-24     7.0          4         3\n",
       "9             10      2016-05-08     3.0          4         4"
      ]
     },
     "execution_count": 7,
     "metadata": {},
     "output_type": "execute_result"
    }
   ],
   "source": [
    "import pandas as pd\n",
    "df=pd.read_csv('transactions.csv')\n",
    "df"
   ]
  },
  {
   "cell_type": "code",
   "execution_count": 8,
   "id": "60096543-8aab-4d2f-a311-06acddb0bcef",
   "metadata": {},
   "outputs": [
    {
     "name": "stdout",
     "output_type": "stream",
     "text": [
      "First 5 rows of the dataset:\n",
      "   TransactionID TransactionDate  UserID  ProductID  Quantity\n",
      "0              1      2010-08-21     7.0          2         1\n",
      "1              2      2011-05-26     3.0          4         1\n",
      "2              3      2011-06-16     3.0          3         1\n",
      "3              4      2012-08-26     1.0          2         3\n",
      "4              5      2013-06-06     2.0          4         1\n",
      "\n",
      "Dataset Info:\n",
      "<class 'pandas.core.frame.DataFrame'>\n",
      "RangeIndex: 10 entries, 0 to 9\n",
      "Data columns (total 5 columns):\n",
      " #   Column           Non-Null Count  Dtype  \n",
      "---  ------           --------------  -----  \n",
      " 0   TransactionID    10 non-null     int64  \n",
      " 1   TransactionDate  10 non-null     object \n",
      " 2   UserID           9 non-null      float64\n",
      " 3   ProductID        10 non-null     int64  \n",
      " 4   Quantity         10 non-null     int64  \n",
      "dtypes: float64(1), int64(3), object(1)\n",
      "memory usage: 528.0+ bytes\n",
      "None\n",
      "\n",
      "Missing Values in Each Column:\n",
      "TransactionID      0\n",
      "TransactionDate    0\n",
      "UserID             1\n",
      "ProductID          0\n",
      "Quantity           0\n",
      "dtype: int64\n",
      "\n",
      "Descriptive Statistics:\n",
      "       TransactionID    UserID  ProductID   Quantity\n",
      "count       10.00000  9.000000  10.000000  10.000000\n",
      "mean         5.50000  3.444444   3.400000   2.400000\n",
      "std          3.02765  2.127858   1.074968   1.712698\n",
      "min          1.00000  1.000000   2.000000   1.000000\n",
      "25%          3.25000  2.000000   2.250000   1.000000\n",
      "50%          5.50000  3.000000   4.000000   2.000000\n",
      "75%          7.75000  3.000000   4.000000   3.000000\n",
      "max         10.00000  7.000000   5.000000   6.000000\n",
      "\n",
      " last 5 rows of the dataset\n",
      "   TransactionID TransactionDate  UserID  ProductID  Quantity\n",
      "5              6      2013-12-23     2.0          5         6\n",
      "6              7      2013-12-30     3.0          4         1\n",
      "7              8      2014-04-24     NaN          2         3\n",
      "8              9      2015-04-24     7.0          4         3\n",
      "9             10      2016-05-08     3.0          4         4\n"
     ]
    }
   ],
   "source": [
    "#1\n",
    "\n",
    "print(\"First 5 rows of the dataset:\")\n",
    "print(df.head())\n",
    "\n",
    "# Step 4: Dataset info (column names, data types, non-null counts)\n",
    "print(\"\\nDataset Info:\")\n",
    "print(df.info())\n",
    "\n",
    "# Step 5: Check for missing values\n",
    "print(\"\\nMissing Values in Each Column:\")\n",
    "print(df.isnull().sum())\n",
    "\n",
    "# Step 6: Descriptive statistics for numerical columns\n",
    "print(\"\\nDescriptive Statistics:\")\n",
    "print(df.describe())\n",
    "\n",
    "print(\"\\n last 5 rows of the dataset\")\n",
    "print(df.tail())\n"
   ]
  },
  {
   "cell_type": "code",
   "execution_count": 9,
   "id": "cfb75018-b59c-454b-9449-1379f95a263d",
   "metadata": {},
   "outputs": [
    {
     "name": "stdout",
     "output_type": "stream",
     "text": [
      "5\n"
     ]
    }
   ],
   "source": [
    "#2\n",
    "\n",
    "print(df.shape[1])"
   ]
  },
  {
   "cell_type": "code",
   "execution_count": 10,
   "id": "3839c979-9353-4ae5-812c-c659bb255397",
   "metadata": {},
   "outputs": [
    {
     "name": "stdout",
     "output_type": "stream",
     "text": [
      "10\n"
     ]
    }
   ],
   "source": [
    "#3\n",
    "\n",
    "print(df.shape[0])"
   ]
  },
  {
   "cell_type": "code",
   "execution_count": 11,
   "id": "046aa7be-873f-4e83-a402-93367109255b",
   "metadata": {},
   "outputs": [
    {
     "name": "stdout",
     "output_type": "stream",
     "text": [
      "[0, 1, 2, 3, 4, 5, 6, 7, 8, 9]\n"
     ]
    }
   ],
   "source": [
    "#4\n",
    "\n",
    "print(list(df.index))"
   ]
  },
  {
   "cell_type": "code",
   "execution_count": 12,
   "id": "3b35c3fe-8fe7-4503-a3d0-b151b3e943e9",
   "metadata": {},
   "outputs": [
    {
     "name": "stdout",
     "output_type": "stream",
     "text": [
      "['TransactionID', 'TransactionDate', 'UserID', 'ProductID', 'Quantity']\n"
     ]
    }
   ],
   "source": [
    "#5\n",
    "\n",
    "print(list(df.columns))"
   ]
  },
  {
   "cell_type": "code",
   "execution_count": 13,
   "id": "16cb919a-1204-459f-b92f-a9c640a2fe9f",
   "metadata": {},
   "outputs": [
    {
     "name": "stdout",
     "output_type": "stream",
     "text": [
      "   TransactionID TransactionDate  UserID  ProductID  Quantity\n",
      "0              1      2010-08-21     7.0          2         1\n",
      "1              2      2011-05-26     3.0          4         1\n",
      "2              3      2011-06-16     3.0          3         1\n",
      "3              4      2012-08-26     1.0          2         3\n",
      "4              5      2013-06-06     2.0          4         1\n",
      "5              6      2013-12-23     2.0          5         6\n",
      "6              7      2013-12-30     3.0          4         1\n",
      "7              8      2014-04-24     NaN          2         3\n",
      "8              9      2015-04-24     7.0          4         3\n",
      "9             10      2016-05-08     3.0          4         4\n"
     ]
    }
   ],
   "source": [
    "#6\n",
    "\n",
    "print(df.head(10))"
   ]
  },
  {
   "cell_type": "code",
   "execution_count": 14,
   "id": "1c941bd1-02bc-4487-8532-519d99f947c2",
   "metadata": {},
   "outputs": [],
   "source": [
    "#7\n",
    "\n",
    "#change the name of attribute\n",
    "\n",
    "df.rename(columns={'Quantity':'Quant'}, inplace= True)\n"
   ]
  },
  {
   "cell_type": "code",
   "execution_count": 15,
   "id": "957932ac-b7a9-4a0c-bd67-0aeb0ab3f5c5",
   "metadata": {},
   "outputs": [
    {
     "data": {
      "text/plain": [
       "['TransactionID', 'TransactionDate', 'UserID', 'ProductID', 'Quant']"
      ]
     },
     "execution_count": 15,
     "metadata": {},
     "output_type": "execute_result"
    }
   ],
   "source": [
    "list(df.columns)"
   ]
  },
  {
   "cell_type": "code",
   "execution_count": 17,
   "id": "58a6eff3-ea78-4218-a1dd-46f6212f7f19",
   "metadata": {},
   "outputs": [
    {
     "data": {
      "text/plain": [
       "Index(['TransactionID', 'TransactionDate', 'UID', 'PID', 'Quant'], dtype='object')"
      ]
     },
     "execution_count": 17,
     "metadata": {},
     "output_type": "execute_result"
    }
   ],
   "source": [
    "#8\n",
    "\n",
    "df.rename(columns={\"ProductID\": \"PID\", \"UserID\": \"UID\"}, inplace=True)\n",
    "df.columns"
   ]
  },
  {
   "cell_type": "code",
   "execution_count": 18,
   "id": "219192a9-6ede-496d-9c3e-9ef70de48e55",
   "metadata": {},
   "outputs": [
    {
     "name": "stdout",
     "output_type": "stream",
     "text": [
      "   TransactionID TransactionDate  UID  PID  Quant\n",
      "0              1      2010-08-21  7.0    2      1\n",
      "1              2      2011-05-26  3.0    4      1\n",
      "2              3      2011-06-16  3.0    3      1\n",
      "3              4      2012-08-26  1.0    2      3\n",
      "4              5      2013-06-06  2.0    4      1\n"
     ]
    }
   ],
   "source": [
    "#9\n",
    "\n",
    "df_sorted=df.sort_values(by='TransactionID',ascending=True)\n",
    "print(df_sorted.head())"
   ]
  },
  {
   "cell_type": "code",
   "execution_count": 19,
   "id": "5048a3a3-bf49-459b-9841-d4cb329cc1b1",
   "metadata": {},
   "outputs": [
    {
     "name": "stdout",
     "output_type": "stream",
     "text": [
      "   TransactionID TransactionDate  UID  PID  Quant\n",
      "6              7      2013-12-30  3.0    4      1\n",
      "4              5      2013-06-06  2.0    4      1\n",
      "2              3      2011-06-16  3.0    3      1\n",
      "1              2      2011-05-26  3.0    4      1\n",
      "0              1      2010-08-21  7.0    2      1\n"
     ]
    }
   ],
   "source": [
    "#10\n",
    "\n",
    "df_sorted=df.sort_values(by=['Quant','TransactionDate'],ascending=[True,False])\n",
    "print(df_sorted.head())"
   ]
  },
  {
   "cell_type": "code",
   "execution_count": 20,
   "id": "78a68b2a-6b26-4dd1-9c90-d1679e62522d",
   "metadata": {},
   "outputs": [
    {
     "name": "stdout",
     "output_type": "stream",
     "text": [
      "['PID', 'Quant', 'TransactionDate', 'TransactionID', 'UID']\n"
     ]
    }
   ],
   "source": [
    "#11\n",
    "\n",
    "df=df[['PID','Quant','TransactionDate','TransactionID','UID']]\n",
    "print(list(df.columns))"
   ]
  },
  {
   "cell_type": "code",
   "execution_count": 21,
   "id": "5a7ee87d-e6f9-4ecd-8c2b-aa7709a94fb9",
   "metadata": {},
   "outputs": [
    {
     "name": "stdout",
     "output_type": "stream",
     "text": [
      "['UID', 'PID', 'Quant', 'TransactionDate', 'TransactionID']\n"
     ]
    }
   ],
   "source": [
    "#12\n",
    "\n",
    "df=df[['UID','PID','Quant','TransactionDate','TransactionID']]\n",
    "print(list(df.columns))"
   ]
  },
  {
   "cell_type": "code",
   "execution_count": null,
   "id": "0cc8dd5c-08f6-4795-bde5-0751904c7106",
   "metadata": {},
   "outputs": [],
   "source": []
  },
  {
   "cell_type": "code",
   "execution_count": 22,
   "id": "d7d0b5d4-2f24-46a3-922a-20cc915ffd1c",
   "metadata": {},
   "outputs": [
    {
     "name": "stdout",
     "output_type": "stream",
     "text": [
      "[2 4 3 2 4 5 4 2 4 4]\n"
     ]
    }
   ],
   "source": [
    "#13\n",
    "\n",
    "second_column_array=df.iloc[:,1].values\n",
    "print(second_column_array)\n",
    "\n"
   ]
  },
  {
   "cell_type": "code",
   "execution_count": 23,
   "id": "79f52dc5-deb8-4b8e-8e5d-f3299470139e",
   "metadata": {},
   "outputs": [
    {
     "name": "stdout",
     "output_type": "stream",
     "text": [
      "[2 4 3 2 4 5 4 2 4 4]\n"
     ]
    }
   ],
   "source": [
    "#14\n",
    "\n",
    "product_id_array=df['PID'].values\n",
    "print(product_id_array)"
   ]
  },
  {
   "cell_type": "code",
   "execution_count": 24,
   "id": "89270d1c-6405-4cab-94d9-117af954879c",
   "metadata": {},
   "outputs": [
    {
     "name": "stdout",
     "output_type": "stream",
     "text": [
      "   UID  PID  Quant TransactionDate  TransactionID\n",
      "1  3.0    4      1      2011-05-26              2\n",
      "3  1.0    2      3      2012-08-26              4\n",
      "6  3.0    4      1      2013-12-30              7\n"
     ]
    }
   ],
   "source": [
    "#16\n",
    "subset_rows=df.iloc[[1,3,6]]\n",
    "print(subset_rows)"
   ]
  },
  {
   "cell_type": "code",
   "execution_count": 25,
   "id": "950f0fa3-3281-447b-89d6-8683ad6a04f9",
   "metadata": {},
   "outputs": [
    {
     "name": "stdout",
     "output_type": "stream",
     "text": [
      "   UID  PID  Quant TransactionDate  TransactionID\n",
      "0  7.0    2      1      2010-08-21              1\n",
      "4  2.0    4      1      2013-06-06              5\n",
      "5  2.0    5      6      2013-12-23              6\n",
      "6  3.0    4      1      2013-12-30              7\n",
      "7  NaN    2      3      2014-04-24              8\n",
      "8  7.0    4      3      2015-04-24              9\n",
      "9  3.0    4      4      2016-05-08             10\n"
     ]
    }
   ],
   "source": [
    "#17\n",
    "\n",
    "subset_exclud=df.drop(index=[1,3,2])\n",
    "print(subset_exclud)"
   ]
  },
  {
   "cell_type": "code",
   "execution_count": 26,
   "id": "b0cbb97b-cdf8-46c5-acb8-611d5809e29a",
   "metadata": {},
   "outputs": [
    {
     "name": "stdout",
     "output_type": "stream",
     "text": [
      "   UID  PID  Quant TransactionDate  TransactionID\n",
      "0  7.0    2      1      2010-08-21              1\n",
      "1  3.0    4      1      2011-05-26              2\n",
      "2  3.0    3      1      2011-06-16              3\n"
     ]
    }
   ],
   "source": [
    "#18\n",
    "\n",
    "first_three=df.iloc[:3]\n",
    "print(first_three)"
   ]
  },
  {
   "cell_type": "code",
   "execution_count": 27,
   "id": "e43df093-ec82-462d-b0eb-5cd40c998565",
   "metadata": {},
   "outputs": [
    {
     "name": "stdout",
     "output_type": "stream",
     "text": [
      "   UID  PID  Quant TransactionDate  TransactionID\n",
      "0  7.0    2      1      2010-08-21              1\n",
      "1  3.0    4      1      2011-05-26              2\n",
      "2  3.0    3      1      2011-06-16              3\n",
      "3  1.0    2      3      2012-08-26              4\n",
      "4  2.0    4      1      2013-06-06              5\n",
      "5  2.0    5      6      2013-12-23              6\n",
      "6  3.0    4      1      2013-12-30              7\n",
      "7  NaN    2      3      2014-04-24              8\n"
     ]
    }
   ],
   "source": [
    "#19\n",
    "\n",
    "last_two=df.iloc[:-2]\n",
    "print(last_two)\n"
   ]
  },
  {
   "cell_type": "code",
   "execution_count": 28,
   "id": "4a49a1e4-d0a6-43ef-b9cf-82c283569f12",
   "metadata": {},
   "outputs": [
    {
     "name": "stdout",
     "output_type": "stream",
     "text": [
      "   UID  PID  Quant TransactionDate  TransactionID\n",
      "0  7.0    2      1      2010-08-21              1\n",
      "1  3.0    4      1      2011-05-26              2\n",
      "2  3.0    3      1      2011-06-16              3\n",
      "3  1.0    2      3      2012-08-26              4\n",
      "4  2.0    4      1      2013-06-06              5\n",
      "5  2.0    5      6      2013-12-23              6\n",
      "6  3.0    4      1      2013-12-30              7\n",
      "7  NaN    2      3      2014-04-24              8\n"
     ]
    }
   ],
   "source": [
    "#20\n",
    "\n",
    "excluding_last_two = df.iloc[:-2]\n",
    "print(excluding_last_two.head(10))"
   ]
  },
  {
   "cell_type": "code",
   "execution_count": 29,
   "id": "f404f17d-8405-4b36-bcf5-3bc1c7d27553",
   "metadata": {},
   "outputs": [
    {
     "name": "stdout",
     "output_type": "stream",
     "text": [
      "   UID  PID  Quant TransactionDate  TransactionID\n",
      "3  1.0    2      3      2012-08-26              4\n",
      "4  2.0    4      1      2013-06-06              5\n",
      "5  2.0    5      6      2013-12-23              6\n",
      "6  3.0    4      1      2013-12-30              7\n",
      "7  NaN    2      3      2014-04-24              8\n",
      "8  7.0    4      3      2015-04-24              9\n",
      "9  3.0    4      4      2016-05-08             10\n"
     ]
    }
   ],
   "source": [
    "#21\n",
    "\n",
    "exclude_first_three=df.iloc[3:]\n",
    "print(exclude_first_three.head(10))"
   ]
  },
  {
   "cell_type": "code",
   "execution_count": 77,
   "id": "c8ea4df8-9e6f-48f5-840e-506f8d900435",
   "metadata": {},
   "outputs": [
    {
     "name": "stdout",
     "output_type": "stream",
     "text": [
      "   UID  PID  Quant TransactionDate  TransactionID\n",
      "3  1.0    2      3      2012-08-26              4\n",
      "5  2.0    5      6      2013-12-23              6\n",
      "7  NaN    2      3      2014-04-24              8\n",
      "8  7.0    4      3      2015-04-24              9\n",
      "9  3.0    4      4      2016-05-08             10\n"
     ]
    }
   ],
   "source": [
    "#22\n",
    "\n",
    "quant_gt_1=df[df['Quant']>1]\n",
    "\n",
    "print(quant_gt_1.head(10))"
   ]
  },
  {
   "cell_type": "code",
   "execution_count": 80,
   "id": "b1c20b8c-f3a9-42d0-a08a-80665c69b706",
   "metadata": {},
   "outputs": [
    {
     "name": "stdout",
     "output_type": "stream",
     "text": [
      "   UID  PID  Quant TransactionDate  TransactionID\n",
      "4  2.0    4      1      2013-06-06              5\n",
      "5  2.0    5      6      2013-12-23              6\n"
     ]
    }
   ],
   "source": [
    "#23\n",
    "\n",
    "uid=df[df['UID']==2]\n",
    "\n",
    "print(uid.head())"
   ]
  },
  {
   "cell_type": "code",
   "execution_count": 81,
   "id": "c8fcee53-98ab-42b5-9a0f-0b9c66bf0ec0",
   "metadata": {},
   "outputs": [
    {
     "name": "stdout",
     "output_type": "stream",
     "text": [
      "   UID  PID  Quant TransactionDate  TransactionID\n",
      "5  2.0    5      6      2013-12-23              6\n"
     ]
    }
   ],
   "source": [
    "#24\n",
    "\n",
    "subset=df[(df['Quant']>1) & (df['UID']==2)]\n",
    "print(subset.head())"
   ]
  },
  {
   "cell_type": "code",
   "execution_count": 82,
   "id": "a94812d3-d476-4cc2-bb7b-5b3ca77aad19",
   "metadata": {},
   "outputs": [
    {
     "name": "stdout",
     "output_type": "stream",
     "text": [
      "   UID  PID  Quant TransactionDate  TransactionID\n",
      "0  7.0    2      1      2010-08-21              1\n",
      "1  3.0    4      1      2011-05-26              2\n",
      "2  3.0    3      1      2011-06-16              3\n",
      "3  1.0    2      3      2012-08-26              4\n",
      "5  2.0    5      6      2013-12-23              6\n"
     ]
    }
   ],
   "source": [
    "#25\n",
    "\n",
    "subset = df[(df['Quant'] + df['UID']) > 3]\n",
    "print(subset.head())"
   ]
  },
  {
   "cell_type": "code",
   "execution_count": 83,
   "id": "70172b28-b167-43e9-847a-586c0cafa52d",
   "metadata": {},
   "outputs": [
    {
     "name": "stdout",
     "output_type": "stream",
     "text": [
      "   UID  PID  Quant TransactionDate  TransactionID\n",
      "0  7.0    2      1      2010-08-21              1\n",
      "2  3.0    3      1      2011-06-16              3\n",
      "4  2.0    4      1      2013-06-06              5\n",
      "5  2.0    5      6      2013-12-23              6\n",
      "7  NaN    2      3      2014-04-24              8\n"
     ]
    }
   ],
   "source": [
    "#26\n",
    "foo = [True, False, True, False, True,True,False,True,False,False] \n",
    "subset = df[foo]\n",
    "print(subset)"
   ]
  },
  {
   "cell_type": "code",
   "execution_count": 85,
   "id": "2d8d61b1-52ed-4100-a935-1fac47be9f2a",
   "metadata": {},
   "outputs": [
    {
     "name": "stdout",
     "output_type": "stream",
     "text": [
      "Rows where bar > 0:\n",
      "   UID  PID  Quant TransactionDate  TransactionID\n",
      "0  7.0    2      1      2010-08-21              1\n",
      "2  3.0    3      1      2011-06-16              3\n",
      "4  2.0    4      1      2013-06-06              5\n",
      "6  3.0    4      1      2013-12-30              7\n",
      "7  NaN    2      3      2014-04-24              8\n",
      "9  3.0    4      4      2016-05-08             10\n"
     ]
    }
   ],
   "source": [
    "\n",
    "#27\n",
    "\n",
    "bar= [1, -3, 5, 0, 2, -1, 7, 5,-4,8]  # This must match df.shape[0]\n",
    "\n",
    "import numpy as np\n",
    "bar = np.array(bar)\n",
    "subset = df[bar > 0]\n",
    "\n",
    "print(\"Rows where bar > 0:\")\n",
    "print(subset)"
   ]
  },
  {
   "cell_type": "code",
   "execution_count": 86,
   "id": "27d7f0c7-be53-4aaf-a735-0fc845e16441",
   "metadata": {},
   "outputs": [
    {
     "name": "stdout",
     "output_type": "stream",
     "text": [
      "   UID  PID  Quant TransactionDate  TransactionID\n",
      "0  7.0    2      1      2010-08-21              1\n",
      "1  3.0    4      1      2011-05-26              2\n",
      "2  3.0    3      1      2011-06-16              3\n",
      "4  2.0    4      1      2013-06-06              5\n",
      "5  2.0    5      6      2013-12-23              6\n",
      "7  NaN    2      3      2014-04-24              8\n",
      "8  7.0    4      3      2015-04-24              9\n"
     ]
    }
   ],
   "source": [
    "#28\n",
    "\n",
    "import numpy as np\n",
    "\n",
    "foo=np.array(foo)\n",
    "bar=np.array(bar)\n",
    "\n",
    "subset=df[(foo == True) | (bar < 0)]\n",
    "print(subset)"
   ]
  },
  {
   "cell_type": "code",
   "execution_count": 87,
   "id": "06201cbf-5bbd-405c-a03b-0db90ea93075",
   "metadata": {},
   "outputs": [
    {
     "name": "stdout",
     "output_type": "stream",
     "text": [
      "   UID  PID  Quant TransactionDate  TransactionID\n",
      "0  7.0    2      1      2010-08-21              1\n",
      "1  3.0    4      1      2011-05-26              2\n",
      "2  3.0    3      1      2011-06-16              3\n",
      "3  1.0    2      3      2012-08-26              4\n",
      "4  2.0    4      1      2013-06-06              5\n",
      "6  3.0    4      1      2013-12-30              7\n",
      "7  NaN    2      3      2014-04-24              8\n",
      "8  7.0    4      3      2015-04-24              9\n",
      "9  3.0    4      4      2016-05-08             10\n"
     ]
    }
   ],
   "source": [
    "#29\n",
    "\n",
    "subset=df[(foo == False) | (bar >= 0)]\n",
    "print(subset)"
   ]
  },
  {
   "cell_type": "code",
   "execution_count": 88,
   "id": "ba2703b7-38f6-4fcb-8191-c23de3b1b4e4",
   "metadata": {},
   "outputs": [
    {
     "name": "stdout",
     "output_type": "stream",
     "text": [
      "   UID  PID  Quant TransactionDate  TransactionID\n",
      "1  3.0    4      1      2011-05-26              2\n",
      "3  1.0    2      3      2012-08-26              4\n"
     ]
    }
   ],
   "source": [
    "#30\n",
    "\n",
    "subset_columns = df.iloc[[1, 3]]\n",
    "print(subset_columns.head())"
   ]
  },
  {
   "cell_type": "code",
   "execution_count": 89,
   "id": "9245d35f-fadf-4e40-ac38-3701e8869d20",
   "metadata": {},
   "outputs": [
    {
     "name": "stdout",
     "output_type": "stream",
     "text": [
      "   TransactionID TransactionDate\n",
      "0              1      2010-08-21\n",
      "1              2      2011-05-26\n",
      "2              3      2011-06-16\n",
      "3              4      2012-08-26\n",
      "4              5      2013-06-06\n"
     ]
    }
   ],
   "source": [
    "#31\n",
    "\n",
    "subset_columns = df[['TransactionID', 'TransactionDate']]\n",
    "print(subset_columns.head())"
   ]
  },
  {
   "cell_type": "code",
   "execution_count": 90,
   "id": "f3f6b888-d322-4f87-9041-3fba7787779f",
   "metadata": {},
   "outputs": [
    {
     "name": "stdout",
     "output_type": "stream",
     "text": [
      "Rows where TransactionID > 1000:\n",
      "Empty DataFrame\n",
      "Columns: [TransactionID, TransactionDate]\n",
      "Index: []\n"
     ]
    }
   ],
   "source": [
    "#32\n",
    "\n",
    "subset = df[df['TransactionID'] > 1000][['TransactionID', 'TransactionDate']]\n",
    "\n",
    "print(\"Rows where TransactionID > 1000:\")\n",
    "print(subset.head())"
   ]
  },
  {
   "cell_type": "code",
   "execution_count": 103,
   "id": "2e22cca9-6a0b-4907-ad8a-39905ed8df08",
   "metadata": {},
   "outputs": [
    {
     "name": "stdout",
     "output_type": "stream",
     "text": [
      "Subset by variable list of columns:\n",
      "   TransactionID TransactionDate\n",
      "0              1      2010-08-21\n",
      "1              2      2011-05-26\n",
      "2              3      2011-06-16\n",
      "3              4      2012-08-26\n",
      "4              5      2013-06-06\n"
     ]
    }
   ],
   "source": [
    "#33\n",
    "\n",
    "cols_to_include = ['TransactionID', 'TransactionDate']\n",
    "\n",
    "# Subset\n",
    "subset = df[cols_to_include]\n",
    "\n",
    "print(\"Subset by variable list of columns:\")\n",
    "print(subset.head())"
   ]
  },
  {
   "cell_type": "code",
   "execution_count": 105,
   "id": "88e3880e-4665-4ee2-b4ae-d829b22be5fa",
   "metadata": {},
   "outputs": [
    {
     "name": "stdout",
     "output_type": "stream",
     "text": [
      "Subset excluding variable list of columns:\n",
      "   UID  PID  Quant\n",
      "0  7.0    2      1\n",
      "1  3.0    4      1\n",
      "2  3.0    3      1\n",
      "3  1.0    2      3\n",
      "4  2.0    4      1\n"
     ]
    }
   ],
   "source": [
    "#34\n",
    "\n",
    "\n",
    "cols_to_exclude = ['TransactionID', 'TransactionDate']\n",
    "\n",
    "# Subset by excluding them\n",
    "subset_excluded = df.drop(columns=cols_to_exclude)\n",
    "\n",
    "print(\"Subset excluding variable list of columns:\")\n",
    "print(subset_excluded.head())"
   ]
  },
  {
   "cell_type": "code",
   "execution_count": 107,
   "id": "69950e5a-6260-4e30-aeeb-5629bcefa3b9",
   "metadata": {},
   "outputs": [
    {
     "name": "stdout",
     "output_type": "stream",
     "text": [
      "datetime64[ns]\n"
     ]
    }
   ],
   "source": [
    "#36\n",
    "\n",
    "df['TransactionDate'] = pd.to_datetime(df['TransactionDate'])\n",
    "\n",
    "# Verify conversion\n",
    "print(df['TransactionDate'].dtypes)"
   ]
  },
  {
   "cell_type": "code",
   "execution_count": 108,
   "id": "c7d1646e-246e-4b2f-a0de-56b7a4ffda64",
   "metadata": {},
   "outputs": [
    {
     "name": "stdout",
     "output_type": "stream",
     "text": [
      "   UID  PID   Foo\n",
      "0  7.0    2  7.02\n",
      "1  3.0    4  3.04\n",
      "2  3.0    3  3.03\n",
      "3  1.0    2  1.02\n",
      "4  2.0    4  2.04\n"
     ]
    }
   ],
   "source": [
    "#37\n",
    "\n",
    "df['Foo'] = df['UID'].astype(str) + df['PID'].astype(str)\n",
    "\n",
    "# Preview the result\n",
    "print(df[['UID', 'PID', 'Foo']].head())"
   ]
  },
  {
   "cell_type": "code",
   "execution_count": null,
   "id": "614ed0d8-6cf7-431e-b5c7-954e15c23344",
   "metadata": {},
   "outputs": [],
   "source": []
  }
 ],
 "metadata": {
  "kernelspec": {
   "display_name": "Python 3",
   "language": "python",
   "name": "python3"
  },
  "language_info": {
   "codemirror_mode": {
    "name": "ipython",
    "version": 3
   },
   "file_extension": ".py",
   "mimetype": "text/x-python",
   "name": "python",
   "nbconvert_exporter": "python",
   "pygments_lexer": "ipython3",
   "version": "3.10.12"
  }
 },
 "nbformat": 4,
 "nbformat_minor": 5
}
